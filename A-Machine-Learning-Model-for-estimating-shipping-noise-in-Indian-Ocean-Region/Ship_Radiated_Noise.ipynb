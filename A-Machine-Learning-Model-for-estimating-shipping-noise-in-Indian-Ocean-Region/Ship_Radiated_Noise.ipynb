{
  "cells": [
    {
      "cell_type": "code",
      "execution_count": null,
      "metadata": {
        "id": "IGdqIH4xDwVY"
      },
      "outputs": [],
      "source": [
        "import numpy as np\n",
        "import pandas as pd\n",
        "import tensorflow as tf\n",
        "import matplotlib.pyplot as plt\n",
        "import joblib\n",
        "from pickle import dump\n",
        "import seaborn as sns\n",
        "from scipy.stats import skew, boxcox"
      ]
    },
    {
      "cell_type": "markdown",
      "metadata": {
        "id": "rh32q9yOGUyv"
      },
      "source": [
        "### Importing Dataset"
      ]
    },
    {
      "cell_type": "code",
      "execution_count": null,
      "metadata": {
        "id": "kZJ5mz6aEb82"
      },
      "outputs": [],
      "source": [
        "dataset = pd.read_csv(r'TrainingData.csv')\n",
        "X = dataset.iloc[:, 0:-1].values\n",
        "y = dataset.iloc[:, -1].values"
      ]
    },
    {
      "cell_type": "code",
      "execution_count": null,
      "metadata": {
        "colab": {
          "base_uri": "https://localhost:8080/"
        },
        "id": "d5Xm-ioHAujj",
        "outputId": "6aa3cde7-9886-4a54-8048-d9f998192fe2"
      },
      "outputs": [
        {
          "name": "stdout",
          "output_type": "stream",
          "text": [
            "[[200 0.1 47352.14884 183 'Other']\n",
            " [850 0.1 35043.65892 168 'Tanker']\n",
            " [900 8.7 9971.415403 118 'Tanker']\n",
            " ...\n",
            " [450 12.1 20304.72151 144 'Tanker']\n",
            " [1000 8.3 9671.391141 117 'Other']\n",
            " [950 11.0 376605.165 333 'Tanker']]\n"
          ]
        }
      ],
      "source": [
        "print(X)"
      ]
    },
    {
      "cell_type": "code",
      "execution_count": null,
      "metadata": {
        "colab": {
          "base_uri": "https://localhost:8080/"
        },
        "id": "a_k5zUinBMRy",
        "outputId": "7ae0b7a3-d67c-4631-c565-69b0315521ca"
      },
      "outputs": [
        {
          "name": "stdout",
          "output_type": "stream",
          "text": [
            "[168.7035839 160.9645315 155.0673376 ... 162.8010216 153.9443544\n",
            " 185.2974231]\n"
          ]
        }
      ],
      "source": [
        "print(y)"
      ]
    },
    {
      "cell_type": "code",
      "execution_count": null,
      "metadata": {
        "id": "HEngag00vskF"
      },
      "outputs": [],
      "source": [
        "from sklearn.preprocessing import LabelEncoder\n",
        "le = LabelEncoder()\n",
        "X[:, 4] = le.fit_transform(X[:, 4])"
      ]
    },
    {
      "cell_type": "code",
      "execution_count": null,
      "metadata": {
        "colab": {
          "base_uri": "https://localhost:8080/"
        },
        "id": "VdQBTJh2aFEf",
        "outputId": "5ca6b226-c57e-436d-9d26-8a62c86e8bcd"
      },
      "outputs": [
        {
          "data": {
            "text/plain": [
              "['labelEncoder.joblib']"
            ]
          },
          "execution_count": 6,
          "metadata": {},
          "output_type": "execute_result"
        }
      ],
      "source": [
        "joblib.dump(le, 'labelEncoder.joblib', compress = 9)"
      ]
    },
    {
      "cell_type": "code",
      "execution_count": null,
      "metadata": {
        "id": "5iySVSaplFjF"
      },
      "outputs": [],
      "source": [
        "from sklearn.preprocessing import PowerTransformer\n",
        "pt = PowerTransformer(method = 'box-cox')\n",
        "X[:, 2:3] = pt.fit_transform(X[:, 2:3])\n",
        "dump(pt, open('power_transform.pkl', 'wb'))"
      ]
    },
    {
      "cell_type": "code",
      "execution_count": null,
      "metadata": {
        "colab": {
          "base_uri": "https://localhost:8080/",
          "height": 1000
        },
        "id": "AUBbvq2k6iE2",
        "outputId": "edfe2aa0-c0b7-4839-d709-be6b9aba76c5"
      },
      "outputs": [
        {
          "name": "stdout",
          "output_type": "stream",
          "text": [
            "[200 850 900 ... 450 1000 950]\n",
            "8.464867619890773e-05\n"
          ]
        },
        {
          "data": {
            "text/plain": [
              "<Figure size 432x288 with 0 Axes>"
            ]
          },
          "metadata": {},
          "output_type": "display_data"
        },
        {
          "data": {
            "image/png": "[encoded data removed]",
            "text/plain": [
              "<Figure size 360x360 with 1 Axes>"
            ]
          },
          "metadata": {
            "needs_background": "light"
          },
          "output_type": "display_data"
        },
        {
          "name": "stdout",
          "output_type": "stream",
          "text": [
            "[0.1 0.1 8.7 ... 12.1 8.3 11.0]\n",
            "0.3095267842848202\n"
          ]
        },
        {
          "data": {
            "text/plain": [
              "<Figure size 432x288 with 0 Axes>"
            ]
          },
          "metadata": {},
          "output_type": "display_data"
        },
        {
          "data": {
            "image/png": "[encoded data removed]",
            "text/plain": [
              "<Figure size 360x360 with 1 Axes>"
            ]
          },
          "metadata": {
            "needs_background": "light"
          },
          "output_type": "display_data"
        },
        {
          "name": "stdout",
          "output_type": "stream",
          "text": [
            "[0.5263196587216614 0.38663965392588956 -0.14604965029815234 ...\n",
            " 0.14565694585183372 -0.15804387143120577 1.6351739136011292]\n",
            "-0.11697046438565241\n"
          ]
        },
        {
          "data": {
            "text/plain": [
              "<Figure size 432x288 with 0 Axes>"
            ]
          },
          "metadata": {},
          "output_type": "display_data"
        },
        {
          "data": {
            "image/png": "[encoded data removed]",
            "text/plain": [
              "<Figure size 360x360 with 1 Axes>"
            ]
          },
          "metadata": {
            "needs_background": "light"
          },
          "output_type": "display_data"
        },
        {
          "name": "stdout",
          "output_type": "stream",
          "text": [
            "[183 168 118 ... 144 117 333]\n",
            "0.4024475036632014\n"
          ]
        },
        {
          "data": {
            "text/plain": [
              "<Figure size 432x288 with 0 Axes>"
            ]
          },
          "metadata": {},
          "output_type": "display_data"
        },
        {
          "data": {
            "image/png": "[encoded data removed]",
            "text/plain": [
              "<Figure size 360x360 with 1 Axes>"
            ]
          },
          "metadata": {
            "needs_background": "light"
          },
          "output_type": "display_data"
        },
        {
          "name": "stdout",
          "output_type": "stream",
          "text": [
            "[2 3 3 ... 3 2 3]\n",
            "-0.3055760235830743\n"
          ]
        },
        {
          "data": {
            "text/plain": [
              "<Figure size 432x288 with 0 Axes>"
            ]
          },
          "metadata": {},
          "output_type": "display_data"
        },
        {
          "data": {
            "image/png": "[encoded data removed]",
            "text/plain": [
              "<Figure size 360x360 with 1 Axes>"
            ]
          },
          "metadata": {
            "needs_background": "light"
          },
          "output_type": "display_data"
        }
      ],
      "source": [
        "for col in range(5):\n",
        "  print(X[:, col])\n",
        "  print(skew(X[:, col]))\n",
        "\n",
        "  plt.figure()\n",
        "  sns.displot(X[:, col])\n",
        "  plt.show()"
      ]
    },
    {
      "cell_type": "markdown",
      "metadata": {
        "id": "NSKBN8QGGfZV"
      },
      "source": [
        "### Split dataset for Testing and Training"
      ]
    },
    {
      "cell_type": "code",
      "execution_count": null,
      "metadata": {
        "id": "QorYw8dHGR6t"
      },
      "outputs": [],
      "source": [
        "from sklearn.model_selection import train_test_split\n",
        "X_train, X_test, y_train, y_test = train_test_split(X, y, test_size = 0.18, random_state = 0)"
      ]
    },
    {
      "cell_type": "markdown",
      "metadata": {
        "id": "R8HxXBsoG9yM"
      },
      "source": [
        "### Feature Scaling"
      ]
    },
    {
      "cell_type": "code",
      "execution_count": null,
      "metadata": {
        "id": "29CRLKEIG8Rx"
      },
      "outputs": [],
      "source": [
        "from sklearn.preprocessing import StandardScaler\n",
        "sc = StandardScaler()\n",
        "X_train = sc.fit_transform(X_train)\n",
        "X_test = sc.transform(X_test)\n",
        "dump(sc, open('scaler.pkl', 'wb'))"
      ]
    },
    {
      "cell_type": "markdown",
      "metadata": {
        "id": "h-Kd-RUdHYeo"
      },
      "source": [
        "# Building ANN"
      ]
    },
    {
      "cell_type": "code",
      "execution_count": null,
      "metadata": {
        "id": "_7LEZw9nHh0w"
      },
      "outputs": [],
      "source": [
        "ann = tf.keras.models.Sequential()"
      ]
    },
    {
      "cell_type": "code",
      "execution_count": null,
      "metadata": {
        "id": "yEoBZEQZH2lf"
      },
      "outputs": [],
      "source": [
        "ann.add(tf.keras.layers.Dense(units = 11, activation = 'relu'))"
      ]
    },
    {
      "cell_type": "code",
      "execution_count": null,
      "metadata": {
        "id": "NraYJhb7sIGP"
      },
      "outputs": [],
      "source": [
        "ann.add(tf.keras.layers.Dense(units = 11, activation = 'relu'))"
      ]
    },
    {
      "cell_type": "code",
      "execution_count": null,
      "metadata": {
        "id": "YF8Qk-CssJes"
      },
      "outputs": [],
      "source": [
        "ann.add(tf.keras.layers.Dense(units = 11, activation = 'relu'))"
      ]
    },
    {
      "cell_type": "code",
      "execution_count": null,
      "metadata": {
        "id": "EAnMXAbnCL4s"
      },
      "outputs": [],
      "source": [
        "ann.add(tf.keras.layers.Dense(units = 11, activation = 'relu'))"
      ]
    },
    {
      "cell_type": "code",
      "execution_count": null,
      "metadata": {
        "id": "rKjCeNRkx8IA"
      },
      "outputs": [],
      "source": [
        "ann.add(tf.keras.layers.Dense(units = 11, activation = 'relu'))"
      ]
    },
    {
      "cell_type": "code",
      "execution_count": null,
      "metadata": {
        "id": "fUUonzf6MgDZ"
      },
      "outputs": [],
      "source": [
        "ann.add(tf.keras.layers.Dense(units = 1, activation = 'linear'))"
      ]
    },
    {
      "cell_type": "markdown",
      "metadata": {
        "id": "OaId3LxuQg1x"
      },
      "source": [
        "# Training ANN"
      ]
    },
    {
      "cell_type": "code",
      "execution_count": null,
      "metadata": {
        "id": "Ct9c0tWCQj3K"
      },
      "outputs": [],
      "source": [
        "ann.compile(optimizer='adam', loss='mean_squared_error' , metrics=['mae'])"
      ]
    },
    {
      "cell_type": "code",
      "execution_count": null,
      "metadata": {
        "colab": {
          "base_uri": "https://localhost:8080/"
        },
        "id": "exJyR1oNxPEe",
        "outputId": "458fa6ce-1a1d-4551-c3d5-edf0ffb0d232"
      },
      "outputs": [
        {
          "name": "stdout",
          "output_type": "stream",
          "text": [
            "Epoch 1/100\n",
            "300/300 [==============================] - 2s 2ms/step - loss: 12364.4102 - mae: 92.1789\n",
            "Epoch 2/100\n",
            "300/300 [==============================] - 1s 2ms/step - loss: 594.4306 - mae: 19.7313\n",
            "Epoch 3/100\n",
            "300/300 [==============================] - 1s 2ms/step - loss: 291.4717 - mae: 13.8620\n",
            "Epoch 4/100\n",
            "300/300 [==============================] - 1s 2ms/step - loss: 134.1281 - mae: 9.2965\n",
            "Epoch 5/100\n",
            "300/300 [==============================] - 1s 2ms/step - loss: 70.8067 - mae: 6.5190\n",
            "Epoch 6/100\n",
            "300/300 [==============================] - 1s 2ms/step - loss: 44.5237 - mae: 5.0374\n",
            "Epoch 7/100\n",
            "300/300 [==============================] - 1s 2ms/step - loss: 31.5511 - mae: 4.2039\n",
            "Epoch 8/100\n",
            "300/300 [==============================] - 1s 2ms/step - loss: 23.5833 - mae: 3.6063\n",
            "Epoch 9/100\n",
            "300/300 [==============================] - 1s 2ms/step - loss: 19.2865 - mae: 3.2022\n",
            "Epoch 10/100\n",
            "300/300 [==============================] - 1s 2ms/step - loss: 16.7197 - mae: 2.9530\n",
            "Epoch 11/100\n",
            "300/300 [==============================] - 1s 2ms/step - loss: 15.1533 - mae: 2.7777\n",
            "Epoch 12/100\n",
            "300/300 [==============================] - 1s 2ms/step - loss: 14.0553 - mae: 2.6430\n",
            "Epoch 13/100\n",
            "300/300 [==============================] - 1s 2ms/step - loss: 13.3632 - mae: 2.5490\n",
            "Epoch 14/100\n",
            "300/300 [==============================] - 1s 2ms/step - loss: 12.9365 - mae: 2.4998\n",
            "Epoch 15/100\n",
            "300/300 [==============================] - 1s 4ms/step - loss: 12.6104 - mae: 2.4622\n",
            "Epoch 16/100\n",
            "300/300 [==============================] - 1s 2ms/step - loss: 12.2603 - mae: 2.4241\n",
            "Epoch 17/100\n",
            "300/300 [==============================] - 1s 2ms/step - loss: 12.2832 - mae: 2.4411\n",
            "Epoch 18/100\n",
            "300/300 [==============================] - 1s 2ms/step - loss: 11.8249 - mae: 2.3846\n",
            "Epoch 19/100\n",
            "300/300 [==============================] - 1s 2ms/step - loss: 11.4357 - mae: 2.3257\n",
            "Epoch 20/100\n",
            "300/300 [==============================] - 1s 2ms/step - loss: 11.3319 - mae: 2.3179\n",
            "Epoch 21/100\n",
            "300/300 [==============================] - 1s 2ms/step - loss: 10.9740 - mae: 2.2748\n",
            "Epoch 22/100\n",
            "300/300 [==============================] - 1s 2ms/step - loss: 10.7825 - mae: 2.2523\n",
            "Epoch 23/100\n",
            "300/300 [==============================] - 1s 2ms/step - loss: 10.6313 - mae: 2.2358\n",
            "Epoch 24/100\n",
            "300/300 [==============================] - 1s 2ms/step - loss: 10.3059 - mae: 2.1686\n",
            "Epoch 25/100\n",
            "300/300 [==============================] - 1s 2ms/step - loss: 10.1535 - mae: 2.1498\n",
            "Epoch 26/100\n",
            "300/300 [==============================] - 1s 2ms/step - loss: 9.9882 - mae: 2.1365\n",
            "Epoch 27/100\n",
            "300/300 [==============================] - 1s 2ms/step - loss: 9.6387 - mae: 2.0871\n",
            "Epoch 28/100\n",
            "300/300 [==============================] - 1s 2ms/step - loss: 9.6125 - mae: 2.0896\n",
            "Epoch 29/100\n",
            "300/300 [==============================] - 1s 2ms/step - loss: 9.4047 - mae: 2.0714\n",
            "Epoch 30/100\n",
            "300/300 [==============================] - 1s 2ms/step - loss: 9.0113 - mae: 2.0179\n",
            "Epoch 31/100\n",
            "300/300 [==============================] - 1s 2ms/step - loss: 8.6786 - mae: 1.9736\n",
            "Epoch 32/100\n",
            "300/300 [==============================] - 1s 2ms/step - loss: 7.9354 - mae: 1.8610\n",
            "Epoch 33/100\n",
            "300/300 [==============================] - 1s 2ms/step - loss: 7.2641 - mae: 1.7261\n",
            "Epoch 34/100\n",
            "300/300 [==============================] - 1s 2ms/step - loss: 7.2211 - mae: 1.7334\n",
            "Epoch 35/100\n",
            "300/300 [==============================] - 1s 2ms/step - loss: 6.4069 - mae: 1.5934\n",
            "Epoch 36/100\n",
            "300/300 [==============================] - 1s 2ms/step - loss: 6.3004 - mae: 1.5747\n",
            "Epoch 37/100\n",
            "300/300 [==============================] - 1s 2ms/step - loss: 5.9304 - mae: 1.4944\n",
            "Epoch 38/100\n",
            "300/300 [==============================] - 1s 2ms/step - loss: 5.9003 - mae: 1.4923\n",
            "Epoch 39/100\n",
            "300/300 [==============================] - 1s 2ms/step - loss: 5.8502 - mae: 1.4900\n",
            "Epoch 40/100\n",
            "300/300 [==============================] - 1s 2ms/step - loss: 5.7758 - mae: 1.5014\n",
            "Epoch 41/100\n",
            "300/300 [==============================] - 1s 2ms/step - loss: 5.3936 - mae: 1.3947\n",
            "Epoch 42/100\n",
            "300/300 [==============================] - 1s 2ms/step - loss: 5.4408 - mae: 1.4278\n",
            "Epoch 43/100\n",
            "300/300 [==============================] - 1s 2ms/step - loss: 5.1935 - mae: 1.3526\n",
            "Epoch 44/100\n",
            "300/300 [==============================] - 1s 2ms/step - loss: 5.2618 - mae: 1.3925\n",
            "Epoch 45/100\n",
            "300/300 [==============================] - 1s 2ms/step - loss: 5.0716 - mae: 1.3466\n",
            "Epoch 46/100\n",
            "300/300 [==============================] - 1s 2ms/step - loss: 5.1126 - mae: 1.3978\n",
            "Epoch 47/100\n",
            "300/300 [==============================] - 1s 2ms/step - loss: 5.0466 - mae: 1.3680\n",
            "Epoch 48/100\n",
            "300/300 [==============================] - 1s 2ms/step - loss: 4.8212 - mae: 1.3176\n",
            "Epoch 49/100\n",
            "300/300 [==============================] - 1s 2ms/step - loss: 4.8266 - mae: 1.3424\n",
            "Epoch 50/100\n",
            "300/300 [==============================] - 1s 2ms/step - loss: 4.5896 - mae: 1.2870\n",
            "Epoch 51/100\n",
            "300/300 [==============================] - 1s 2ms/step - loss: 4.5798 - mae: 1.2899\n",
            "Epoch 52/100\n",
            "300/300 [==============================] - 1s 2ms/step - loss: 4.4393 - mae: 1.2612\n",
            "Epoch 53/100\n",
            "300/300 [==============================] - 1s 2ms/step - loss: 4.3351 - mae: 1.2435\n",
            "Epoch 54/100\n",
            "300/300 [==============================] - 1s 2ms/step - loss: 4.3559 - mae: 1.2607\n",
            "Epoch 55/100\n",
            "300/300 [==============================] - 1s 2ms/step - loss: 4.2460 - mae: 1.2197\n",
            "Epoch 56/100\n",
            "300/300 [==============================] - 1s 2ms/step - loss: 4.1805 - mae: 1.2151\n",
            "Epoch 57/100\n",
            "300/300 [==============================] - 1s 2ms/step - loss: 4.0780 - mae: 1.1836\n",
            "Epoch 58/100\n",
            "300/300 [==============================] - 1s 2ms/step - loss: 4.0091 - mae: 1.1835\n",
            "Epoch 59/100\n",
            "300/300 [==============================] - 1s 2ms/step - loss: 4.2450 - mae: 1.2688\n",
            "Epoch 60/100\n",
            "300/300 [==============================] - 1s 2ms/step - loss: 3.9188 - mae: 1.1505\n",
            "Epoch 61/100\n",
            "300/300 [==============================] - 1s 2ms/step - loss: 3.7963 - mae: 1.1309\n",
            "Epoch 62/100\n",
            "300/300 [==============================] - 1s 2ms/step - loss: 3.8522 - mae: 1.1446\n",
            "Epoch 63/100\n",
            "300/300 [==============================] - 1s 2ms/step - loss: 3.7154 - mae: 1.1048\n",
            "Epoch 64/100\n",
            "300/300 [==============================] - 1s 2ms/step - loss: 3.6821 - mae: 1.1181\n",
            "Epoch 65/100\n",
            "300/300 [==============================] - 1s 2ms/step - loss: 3.7358 - mae: 1.1343\n",
            "Epoch 66/100\n",
            "300/300 [==============================] - 1s 2ms/step - loss: 3.7946 - mae: 1.1919\n",
            "Epoch 67/100\n",
            "300/300 [==============================] - 1s 2ms/step - loss: 3.6037 - mae: 1.0921\n",
            "Epoch 68/100\n",
            "300/300 [==============================] - 1s 2ms/step - loss: 3.4769 - mae: 1.0813\n",
            "Epoch 69/100\n",
            "300/300 [==============================] - 1s 2ms/step - loss: 3.5408 - mae: 1.1029\n",
            "Epoch 70/100\n",
            "300/300 [==============================] - 1s 2ms/step - loss: 3.5810 - mae: 1.1268\n",
            "Epoch 71/100\n",
            "300/300 [==============================] - 1s 2ms/step - loss: 3.4575 - mae: 1.0804\n",
            "Epoch 72/100\n",
            "300/300 [==============================] - 1s 2ms/step - loss: 3.3440 - mae: 1.0368\n",
            "Epoch 73/100\n",
            "300/300 [==============================] - 1s 2ms/step - loss: 3.4836 - mae: 1.1085\n",
            "Epoch 74/100\n",
            "300/300 [==============================] - 1s 2ms/step - loss: 3.4137 - mae: 1.0620\n",
            "Epoch 75/100\n",
            "300/300 [==============================] - 1s 2ms/step - loss: 3.4133 - mae: 1.0955\n",
            "Epoch 76/100\n",
            "300/300 [==============================] - 1s 2ms/step - loss: 3.3836 - mae: 1.0553\n",
            "Epoch 77/100\n",
            "300/300 [==============================] - 1s 2ms/step - loss: 3.2269 - mae: 1.0193\n",
            "Epoch 78/100\n",
            "300/300 [==============================] - 1s 2ms/step - loss: 3.2527 - mae: 1.0499\n",
            "Epoch 79/100\n",
            "300/300 [==============================] - 1s 2ms/step - loss: 3.2809 - mae: 1.0485\n",
            "Epoch 80/100\n",
            "300/300 [==============================] - 1s 2ms/step - loss: 3.4849 - mae: 1.1313\n",
            "Epoch 81/100\n",
            "300/300 [==============================] - 1s 2ms/step - loss: 3.2249 - mae: 1.0640\n",
            "Epoch 82/100\n",
            "300/300 [==============================] - 1s 2ms/step - loss: 3.1953 - mae: 1.0363\n",
            "Epoch 83/100\n",
            "300/300 [==============================] - 1s 2ms/step - loss: 3.2312 - mae: 1.0288\n",
            "Epoch 84/100\n",
            "300/300 [==============================] - 1s 2ms/step - loss: 3.1744 - mae: 1.0375\n",
            "Epoch 85/100\n",
            "300/300 [==============================] - 1s 3ms/step - loss: 3.1709 - mae: 1.0283\n",
            "Epoch 86/100\n",
            "300/300 [==============================] - 1s 3ms/step - loss: 3.1217 - mae: 1.0284\n",
            "Epoch 87/100\n",
            "300/300 [==============================] - 1s 2ms/step - loss: 3.0362 - mae: 0.9930\n",
            "Epoch 88/100\n",
            "300/300 [==============================] - 1s 2ms/step - loss: 3.0882 - mae: 1.0210\n",
            "Epoch 89/100\n",
            "300/300 [==============================] - 1s 2ms/step - loss: 2.9419 - mae: 0.9735\n",
            "Epoch 90/100\n",
            "300/300 [==============================] - 1s 2ms/step - loss: 2.9472 - mae: 0.9749\n",
            "Epoch 91/100\n",
            "300/300 [==============================] - 1s 2ms/step - loss: 3.0721 - mae: 1.0359\n",
            "Epoch 92/100\n",
            "300/300 [==============================] - 1s 2ms/step - loss: 2.9214 - mae: 0.9816\n",
            "Epoch 93/100\n",
            "300/300 [==============================] - 1s 2ms/step - loss: 3.0511 - mae: 1.0177\n",
            "Epoch 94/100\n",
            "300/300 [==============================] - 1s 2ms/step - loss: 2.9790 - mae: 1.0187\n",
            "Epoch 95/100\n",
            "300/300 [==============================] - 1s 2ms/step - loss: 3.0863 - mae: 1.0566\n",
            "Epoch 96/100\n",
            "300/300 [==============================] - 1s 2ms/step - loss: 3.0764 - mae: 1.0627\n",
            "Epoch 97/100\n",
            "300/300 [==============================] - 1s 2ms/step - loss: 2.9080 - mae: 0.9924\n",
            "Epoch 98/100\n",
            "300/300 [==============================] - 1s 2ms/step - loss: 2.8521 - mae: 0.9787\n",
            "Epoch 99/100\n",
            "300/300 [==============================] - 1s 2ms/step - loss: 2.9373 - mae: 0.9902\n",
            "Epoch 100/100\n",
            "300/300 [==============================] - 1s 2ms/step - loss: 2.8614 - mae: 0.9713\n"
          ]
        },
        {
          "data": {
            "text/plain": [
              "<keras.callbacks.History at 0x7fe9572d3450>"
            ]
          },
          "execution_count": 19,
          "metadata": {},
          "output_type": "execute_result"
        }
      ],
      "source": [
        "ann.fit(X_train, y_train, batch_size = 32, epochs = 100)"
      ]
    },
    {
      "cell_type": "code",
      "execution_count": null,
      "metadata": {
        "id": "PIPdQZ6NaTUZ"
      },
      "outputs": [],
      "source": [
        "ann.save('my_model.h5')"
      ]
    },
    {
      "cell_type": "code",
      "execution_count": null,
      "metadata": {
        "colab": {
          "base_uri": "https://localhost:8080/"
        },
        "id": "qAZRpfoK0rlp",
        "outputId": "097ea5b9-8555-4883-e527-e3aa817a15da"
      },
      "outputs": [
        {
          "name": "stdout",
          "output_type": "stream",
          "text": [
            "[[156.80243]]\n"
          ]
        },
        {
          "name": "stderr",
          "output_type": "stream",
          "text": [
            "<string>:6: VisibleDeprecationWarning: Creating an ndarray from ragged nested sequences (which is a list-or-tuple of lists-or-tuples-or ndarrays with different lengths or shapes) is deprecated. If you meant to do this, you must specify 'dtype=object' when creating the ndarray.\n"
          ]
        }
      ],
      "source": [
        "print(ann.predict(sc.transform([[50, 2.6, pt.transform([[2323.545]]), 70, 3]])))"
      ]
    },
    {
      "cell_type": "code",
      "execution_count": null,
      "metadata": {
        "colab": {
          "base_uri": "https://localhost:8080/"
        },
        "id": "1I2jZJfp0ivt",
        "outputId": "3e7df436-f7ed-4b47-c31f-77bdde6dd7f6"
      },
      "outputs": [
        {
          "name": "stdout",
          "output_type": "stream",
          "text": [
            "[[181.36408997 181.0199012 ]\n",
            " [146.89976501 146.3140024 ]\n",
            " [164.27619934 163.0088175 ]\n",
            " ...\n",
            " [170.77241516 179.2047451 ]\n",
            " [175.24186707 174.8676977 ]\n",
            " [152.61491394 151.7358576 ]]\n"
          ]
        }
      ],
      "source": [
        "y_pred = ann.predict(X_test)\n",
        "print(np.concatenate((y_pred.reshape(len(y_pred),1), y_test.reshape(len(y_test),1)),1))"
      ]
    },
    {
      "cell_type": "code",
      "execution_count": null,
      "metadata": {
        "colab": {
          "base_uri": "https://localhost:8080/"
        },
        "id": "W8hse3ZUNVLf",
        "outputId": "63bb259e-5a43-4d4c-a877-95bd6a2b6d81"
      },
      "outputs": [
        {
          "name": "stdout",
          "output_type": "stream",
          "text": [
            "[[182.93778992 182.1155302 ]\n",
            " [165.77012634 165.0097531 ]\n",
            " [148.05566406 147.5233383 ]\n",
            " ...\n",
            " [148.86035156 148.5277063 ]\n",
            " [181.7144928  183.8768225 ]\n",
            " [152.80932617 152.0401082 ]]\n"
          ]
        }
      ],
      "source": [
        "y_pred2 = ann.predict(X_train)\n",
        "print(np.concatenate((y_pred2.reshape(len(y_pred2),1), y_train.reshape(len(y_train),1)),1))"
      ]
    },
    {
      "cell_type": "code",
      "execution_count": null,
      "metadata": {
        "colab": {
          "base_uri": "https://localhost:8080/",
          "height": 281
        },
        "id": "FJBGb62qQBbh",
        "outputId": "73b5bf54-da59-4f72-be61-61fb4cbf52e3"
      },
      "outputs": [
        {
          "data": {
            "image/png": "[encoded data removed]",
            "text/plain": [
              "<Figure size 432x288 with 1 Axes>"
            ]
          },
          "metadata": {
            "needs_background": "light"
          },
          "output_type": "display_data"
        }
      ],
      "source": [
        "plt.plot(y_test, color = 'red', label = 'Real data')\n",
        "plt.plot(y_pred, color = 'blue', label = 'Predicted data')\n",
        "plt.title('Prediction')\n",
        "plt.legend()\n",
        "plt.show()"
      ]
    },
    {
      "cell_type": "code",
      "execution_count": null,
      "metadata": {
        "id": "yyBe4QR4REKT"
      },
      "outputs": [],
      "source": [
        "diff_1 = 0\n",
        "diff_3 = 0\n",
        "diff_5 = 0\n",
        "diff_9 = 0\n",
        "diff_14 = 0\n",
        "diff_18 = 0\n",
        "diff_G = 0"
      ]
    },
    {
      "cell_type": "code",
      "execution_count": null,
      "metadata": {
        "id": "wputdgGRRVWg"
      },
      "outputs": [],
      "source": [
        "for i in range(len(y_pred)):\n",
        "  diff = abs(y_pred[i][0] - y_test[i])\n",
        "  if(diff <= 1):\n",
        "      diff_1 += 1\n",
        "  elif(diff <= 3):\n",
        "      diff_3 += 1\n",
        "  elif(diff <= 5):\n",
        "      diff_5 += 1\n",
        "  elif(diff <= 9):\n",
        "      diff_9 += 1\n",
        "  elif(diff <= 14):\n",
        "      diff_14 += 1\n",
        "  elif(diff <= 18):\n",
        "      diff_18 += 1\n",
        "  else:\n",
        "      diff_G += 1"
      ]
    },
    {
      "cell_type": "code",
      "execution_count": null,
      "metadata": {
        "colab": {
          "base_uri": "https://localhost:8080/"
        },
        "id": "6MCd1W-HT2fQ",
        "outputId": "dde5c8eb-08b3-4142-d4e0-b9608f413ad7"
      },
      "outputs": [
        {
          "name": "stdout",
          "output_type": "stream",
          "text": [
            "2105\n",
            "1405\n",
            "601\n",
            "38\n",
            "50\n",
            "11\n",
            "0\n",
            "0\n"
          ]
        }
      ],
      "source": [
        "print(len(y_pred))\n",
        "print(diff_1)\n",
        "print(diff_3)\n",
        "print(diff_5)\n",
        "print(diff_9)\n",
        "print(diff_14)\n",
        "print(diff_18)\n",
        "print(diff_G)"
      ]
    },
    {
      "cell_type": "code",
      "execution_count": null,
      "metadata": {
        "colab": {
          "base_uri": "https://localhost:8080/"
        },
        "id": "fnNYYyMHbPUa",
        "outputId": "d8ac73cd-62cf-4a74-e1d7-02022077b137"
      },
      "outputs": [
        {
          "name": "stdout",
          "output_type": "stream",
          "text": [
            "300/300 [==============================] - 1s 1ms/step - loss: 2.9657 - mae: 1.1057\n",
            "[2.9656729698181152, 1.1057239770889282]\n"
          ]
        }
      ],
      "source": [
        "train_loss = ann.evaluate(X_train, y_train)\n",
        "print(train_loss)"
      ]
    }
  ],
  "metadata": {
    "colab": {
      "collapsed_sections": [],
      "name": "Ship_Radiated_Noise.ipynb",
      "provenance": []
    },
    "kernelspec": {
      "display_name": "Python 3",
      "name": "python3"
    },
    "language_info": {
      "name": "python"
    }
  },
  "nbformat": 4,
  "nbformat_minor": 0
}
